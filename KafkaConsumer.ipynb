{
 "cells": [
  {
   "cell_type": "code",
   "execution_count": null,
   "metadata": {},
   "outputs": [],
   "source": [
    "%pip install minio"
   ]
  },
  {
   "cell_type": "code",
   "execution_count": 8,
   "metadata": {},
   "outputs": [],
   "source": [
    "import os\n",
    "import json\n",
    "import time\n",
    "import csv\n",
    "from kafka import KafkaConsumer\n",
    "from minio import Minio\n",
    "\n",
    "\n",
    "last_received_time = time.time()\n",
    "inactivity_timeout = 10"
   ]
  },
  {
   "cell_type": "code",
   "execution_count": 9,
   "metadata": {},
   "outputs": [],
   "source": [
    "column_names = [\"Index\", \"Type\", \"Title\", \"Director\", \"Cast\", \"Country\", \"Release Date\", \n",
    "                \"Year\", \"Rating\", \"Duration\", \"Genre\", \"Description\"]"
   ]
  },
  {
   "cell_type": "code",
   "execution_count": null,
   "metadata": {},
   "outputs": [],
   "source": [
    "minio_client = Minio(\n",
    "    'localhost:9000',\n",
    "    access_key='ROOTNAME',\n",
    "    secret_key='CHANGEME123',\n",
    "    secure=False\n",
    "    \n",
    ")\n",
    "\n",
    "bucket_name = 'my-kafka-bucket'"
   ]
  },
  {
   "cell_type": "code",
   "execution_count": 17,
   "metadata": {},
   "outputs": [],
   "source": [
    "# Create a Kafka consumer\n",
    "consumer = KafkaConsumer(\n",
    "    'NewTopic',  # Replace with the actual topic name\n",
    "    bootstrap_servers=['localhost:9092'],  # Same as the producer\n",
    "    group_id='your_consumer_group',  # Consumer group ID (optional)\n",
    "    auto_offset_reset='earliest'\n",
    ")"
   ]
  },
  {
   "cell_type": "code",
   "execution_count": 12,
   "metadata": {},
   "outputs": [],
   "source": [
    "# Kafka server path where you want to save the CSV file\n",
    "kafka_server_path = 'C:\\\\Users\\\\cihat\\\\OneDrive\\\\Masaüstü\\\\pythonwork\\\\kafka-server\\\\kafka_output.csv'"
   ]
  },
  {
   "cell_type": "code",
   "execution_count": 13,
   "metadata": {},
   "outputs": [],
   "source": [
    "# Function to create the bucket if it doesn't exist\n",
    "def create_bucket_if_not_exists():\n",
    "    if not minio_client.bucket_exists(bucket_name):\n",
    "        minio_client.make_bucket(bucket_name)\n",
    "        print(f\"Bucket {bucket_name} created.\")\n",
    "    else:\n",
    "        print(f\"Bucket {bucket_name} already exists.\")"
   ]
  },
  {
   "cell_type": "code",
   "execution_count": null,
   "metadata": {},
   "outputs": [],
   "source": [
    "def save_to_minio():\n",
    "    global last_received_time  # Track inactivity\n",
    "\n",
    "    # Ensure the bucket exists before uploading data\n",
    "    create_bucket_if_not_exists()\n",
    "\n",
    "    # Open the CSV file at the specified path (write mode)\n",
    "    with open(kafka_server_path, 'w', newline='', encoding='utf-8') as csvfile:\n",
    "        writer = csv.writer(csvfile)\n",
    "\n",
    "        # Write the header with column names\n",
    "        writer.writerow(column_names)\n",
    "        print(\"Header written to CSV.\")\n",
    "\n",
    "        index = 1  # Optional: Index to keep track of row number in the CSV\n",
    "\n",
    "        while True:\n",
    "            # Poll for messages with a timeout of 100 ms\n",
    "            messages = consumer.poll(timeout_ms=10000)\n",
    "\n",
    "            # If there are no messages, continue the loop\n",
    "            if not messages:\n",
    "                print(\"No messages received.\")\n",
    "                if time.time() - last_received_time > inactivity_timeout:\n",
    "                    print(\"Inactivity timeout reached, stopping consumer.\")\n",
    "                    break  # Break the loop if inactivity timeout is reached\n",
    "                continue\n",
    "\n",
    "\n",
    "            for topic_partition, messages_list in messages.items():\n",
    "                for message in messages_list:\n",
    "                    print(f\"Processing message: {message.value}\")\n",
    "\n",
    "                    message_data = json.loads(message.value.decode('utf-8'))\n",
    "\n",
    "                    if isinstance(message_data, dict):\n",
    "\n",
    "                        row = [\n",
    "                            index,  # Index\n",
    "                            message_data.get('Type', ''),\n",
    "                            message_data.get('Title', ''),\n",
    "                            message_data.get('Director', ''),\n",
    "                            message_data.get('Cast', ''),\n",
    "                            message_data.get('Country', ''),\n",
    "                            message_data.get('Release Date', ''),\n",
    "                            message_data.get('Year', ''),\n",
    "                            message_data.get('Rating', ''),\n",
    "                            message_data.get('Duration', ''),\n",
    "                            message_data.get('Genre', ''),\n",
    "                            message_data.get('Description', '')\n",
    "                        ]\n",
    "                        \n",
    "\n",
    "                        writer.writerow(row)\n",
    "                        print(f\"Row written: {row}\")\n",
    "                        index += 1\n",
    "\n",
    "\n",
    "        csvfile.flush()\n",
    "        os.fsync(csvfile.fileno())\n",
    "\n",
    "\n",
    "    file_size = os.path.getsize(kafka_server_path)\n",
    "    print(f\"File size before upload: {file_size} bytes\")\n",
    "\n",
    "    if file_size > 0:\n",
    "        with open(kafka_server_path, 'rb') as f:\n",
    "            minio_client.put_object(\n",
    "                bucket_name,\n",
    "                'kafka_output.csv',  # Object name in MinIO\n",
    "                f,  # File object\n",
    "                file_size  # File size in bytes\n",
    "            )\n",
    "        print(\"Data uploaded to MinIO as kafka_output.csv\")\n",
    "    else:\n",
    "        print(\"File is empty, skipping upload.\")\n",
    "\n",
    "# Call the function to start consuming and sending data to MinIO\n",
    "save_to_minio()"
   ]
  },
  {
   "cell_type": "code",
   "execution_count": null,
   "metadata": {},
   "outputs": [],
   "source": [
    "#for c in consumer:\n",
    "#    print(c.value)"
   ]
  },
  {
   "cell_type": "code",
   "execution_count": null,
   "metadata": {},
   "outputs": [],
   "source": []
  }
 ],
 "metadata": {
  "kernelspec": {
   "display_name": "Python 3",
   "language": "python",
   "name": "python3"
  },
  "language_info": {
   "codemirror_mode": {
    "name": "ipython",
    "version": 3
   },
   "file_extension": ".py",
   "mimetype": "text/x-python",
   "name": "python",
   "nbconvert_exporter": "python",
   "pygments_lexer": "ipython3",
   "version": "3.11.5"
  }
 },
 "nbformat": 4,
 "nbformat_minor": 2
}
